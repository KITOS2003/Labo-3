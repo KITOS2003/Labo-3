{
 "cells": [
  {
   "cell_type": "code",
   "execution_count": 3,
   "metadata": {},
   "outputs": [
    {
     "data": {
      "image/png": "[encoded data removed]",
      "text/plain": [
       "<Figure size 640x480 with 1 Axes>"
      ]
     },
     "metadata": {},
     "output_type": "display_data"
    }
   ],
   "source": [
    "import os\n",
    "import numpy as np\n",
    "import matplotlib.pyplot as plt\n",
    "import seaborn as sb\n",
    "from scipy.optimize import curve_fit\n",
    "\n",
    "# protek 506\n",
    "\n",
    "\n",
    "def mkdir(dir):\n",
    "    try:\n",
    "        os.mkdir(dir)\n",
    "    except:\n",
    "        pass\n",
    "\n",
    "\n",
    "mkdir(\"figures\")\n",
    "mkdir(\"figures/lamparita\")\n",
    "\n",
    "mediciones = [\n",
    "    # escala mV\n",
    "    (0.0, 4.5),\n",
    "    (0.045, 18.5),\n",
    "    (0.095, 35.5),\n",
    "    # escala v\n",
    "    (0.202, 55.6),\n",
    "    (0.435, 70.9),\n",
    "    (0.917, 94.6),\n",
    "    (1.383, 115.7),\n",
    "    (1.86, 134.8),\n",
    "    (2.34, 152.4),\n",
    "    (2.842, 168.9),\n",
    "    (3.32, 183.9),\n",
    "    (3.808, 198.1),\n",
    "    (4.78, 224.2),\n",
    "    (4.29, 211.4),\n",
    "    (4.93, 228.0),\n",
    "]\n",
    "\n",
    "mediciones = list(zip(*mediciones))\n",
    "tensiones = np.array(mediciones[0])\n",
    "corrientes = np.array(mediciones[1])\n",
    "\n",
    "sb.set_theme()\n",
    "\n",
    "plt.figure(1)\n",
    "plt.xlabel(\"Tension [V]\")\n",
    "plt.ylabel(\"Corriente [mA]\")\n",
    "plt.plot(tensiones, corrientes, \".\", color=\"slateblue\")\n",
    "plt.savefig(\"figures/lamparita.pdf\")\n",
    "\n",
    "\n",
    "def ajustes(tensiones, corrientes):\n",
    "\n",
    "    def ajuste(x, a, b):\n",
    "        return a*x+b\n",
    "    for i in range(len(tensiones)-2, 0, -1):\n",
    "        x = tensiones[i:]\n",
    "        y = corrientes[i:]\n",
    "        coefs, cov = curve_fit(ajuste, x, y, [1, 1])\n",
    "        errors = np.sqrt(np.diag(cov))\n",
    "        x_fit = np.linspace(x[0], x[-1], 1000)\n",
    "        y_fit = ajuste(x_fit, *coefs)\n",
    "        plt.figure(10)\n",
    "        plt.plot(x_fit, y_fit, color=\"orange\")\n",
    "        plt.plot(x, y, \".\", color=\"slateblue\")\n",
    "        plt.savefig(f\"figures/lamparita/{i=}.pdf\")\n",
    "        plt.clf()"
   ]
  },
  {
   "cell_type": "code",
   "execution_count": 4,
   "metadata": {},
   "outputs": [
    {
     "name": "stderr",
     "output_type": "stream",
     "text": [
      "/home/marcsid/.local/lib/python3.10/site-packages/scipy/optimize/_minpack_py.py:881: OptimizeWarning: Covariance of the parameters could not be estimated\n",
      "  warnings.warn('Covariance of the parameters could not be estimated',\n"
     ]
    },
    {
     "data": {
      "text/plain": [
       "<Figure size 640x480 with 0 Axes>"
      ]
     },
     "metadata": {},
     "output_type": "display_data"
    }
   ],
   "source": [
    "\n",
    "ajustes(tensiones, corrientes)"
   ]
  }
 ],
 "metadata": {
  "kernelspec": {
   "display_name": "Python 3",
   "language": "python",
   "name": "python3"
  },
  "language_info": {
   "codemirror_mode": {
    "name": "ipython",
    "version": 3
   },
   "file_extension": ".py",
   "mimetype": "text/x-python",
   "name": "python",
   "nbconvert_exporter": "python",
   "pygments_lexer": "ipython3",
   "version": "3.10.9"
  },
  "orig_nbformat": 4
 },
 "nbformat": 4,
 "nbformat_minor": 2
}
